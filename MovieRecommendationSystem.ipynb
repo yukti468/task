{
  "nbformat": 4,
  "nbformat_minor": 0,
  "metadata": {
    "colab": {
      "provenance": [],
      "authorship_tag": "ABX9TyPlalv6QmD7dVoN/FBwqCrP",
      "include_colab_link": true
    },
    "kernelspec": {
      "name": "python3",
      "display_name": "Python 3"
    },
    "language_info": {
      "name": "python"
    }
  },
  "cells": [
    {
      "cell_type": "markdown",
      "metadata": {
        "id": "view-in-github",
        "colab_type": "text"
      },
      "source": [
        "<a href=\"https://colab.research.google.com/github/yukti468/task/blob/main/MovieRecommendationSystem.ipynb\" target=\"_parent\"><img src=\"https://colab.research.google.com/assets/colab-badge.svg\" alt=\"Open In Colab\"/></a>"
      ]
    },
    {
      "cell_type": "code",
      "execution_count": null,
      "metadata": {
        "id": "un8vI0vvprWB"
      },
      "outputs": [],
      "source": [
        "import zipfile\n",
        "import pandas as pd\n",
        "import ast\n",
        "from sklearn.feature_extraction.text import TfidfVectorizer\n",
        "from sklearn.metrics.pairwise import cosine_similarity\n",
        "import difflib\n"
      ]
    },
    {
      "cell_type": "code",
      "source": [
        "with zipfile.ZipFile(\"/content/archive.zip\", 'r') as zip_ref:\n",
        "    zip_ref.extractall(\"/content/\")"
      ],
      "metadata": {
        "id": "y2M0gJsW3JNV"
      },
      "execution_count": null,
      "outputs": []
    },
    {
      "cell_type": "code",
      "source": [
        "movies = pd.read_csv(\"/content/tmdb_5000_movies.csv\")\n",
        "credits = pd.read_csv(\"/content/tmdb_5000_credits.csv\")\n"
      ],
      "metadata": {
        "id": "OpH7r6AC3dp4"
      },
      "execution_count": null,
      "outputs": []
    },
    {
      "cell_type": "code",
      "source": [
        "movies = movies.merge(credits, left_on='id', right_on='movie_id')"
      ],
      "metadata": {
        "id": "5LjgAwNN3ldD"
      },
      "execution_count": null,
      "outputs": []
    },
    {
      "cell_type": "code",
      "source": [
        "print(movies.columns.tolist())\n"
      ],
      "metadata": {
        "colab": {
          "base_uri": "https://localhost:8080/"
        },
        "id": "crJqXLa54TBK",
        "outputId": "7b40375d-2d2f-4ee6-fb25-6d3e57ba8de4"
      },
      "execution_count": null,
      "outputs": [
        {
          "output_type": "stream",
          "name": "stdout",
          "text": [
            "['budget', 'genres', 'homepage', 'id', 'keywords', 'original_language', 'original_title', 'overview', 'popularity', 'production_companies', 'production_countries', 'release_date', 'revenue', 'runtime', 'spoken_languages', 'status', 'tagline', 'title_x', 'vote_average', 'vote_count', 'movie_id', 'title_y', 'cast', 'crew']\n"
          ]
        }
      ]
    },
    {
      "cell_type": "code",
      "source": [
        "def get_names(text, key='name', top=3):\n",
        "    try:\n",
        "        return ' '.join([i[key].replace(\" \", \"\") for i in ast.literal_eval(text)[:top]])\n",
        "    except:\n",
        "        return ''\n",
        "\n",
        "movies['cast'] = movies['cast'].apply(lambda x: get_names(x, 'name', 3))\n",
        "movies['crew'] = movies['crew'].apply(lambda x: next((i['name'] for i in ast.literal_eval(x) if i['job'] == 'Director'), ''))\n",
        "movies['genres'] = movies['genres'].apply(lambda x: get_names(x))\n",
        "movies['keywords'] = movies['keywords'].apply(lambda x: get_names(x))"
      ],
      "metadata": {
        "id": "aYlb4AbU3qbC"
      },
      "execution_count": null,
      "outputs": []
    },
    {
      "cell_type": "code",
      "source": [
        "# ✅ Create combined feature column\n",
        "movies['combined_features'] = (\n",
        "    movies['genres'] + ' ' +\n",
        "    movies['keywords'] + ' ' +\n",
        "    movies['tagline'].fillna('') + ' ' +\n",
        "    movies['cast'] + ' ' +\n",
        "    movies['crew']\n",
        ")"
      ],
      "metadata": {
        "id": "SF6q7GBb3ufr"
      },
      "execution_count": null,
      "outputs": []
    },
    {
      "cell_type": "code",
      "source": [
        "tfidf = TfidfVectorizer(stop_words='english')\n",
        "tfidf_matrix = tfidf.fit_transform(movies['combined_features'])"
      ],
      "metadata": {
        "id": "qgw_BGGP3w0p"
      },
      "execution_count": null,
      "outputs": []
    },
    {
      "cell_type": "code",
      "source": [
        "cosine_sim = cosine_similarity(tfidf_matrix)\n",
        "movie_titles = movies['title_x'].tolist()\n"
      ],
      "metadata": {
        "id": "evXwKDcj37Ac"
      },
      "execution_count": null,
      "outputs": []
    },
    {
      "cell_type": "code",
      "source": [
        "def recommend_movie(input_movie):\n",
        "    close_match = difflib.get_close_matches(input_movie, movie_titles, n=1)\n",
        "    if not close_match:\n",
        "        print(f\"No movie found for '{input_movie}'.\")\n",
        "        return\n",
        "    matched_title = close_match[0]\n",
        "    index = movies[movies.title_x == matched_title].index[0]\n",
        "    similarity_scores = list(enumerate(cosine_sim[index]))\n",
        "    sorted_scores = sorted(similarity_scores, key=lambda x: x[1], reverse=True)\n",
        "    print(f\"\\n🎬 Because you watched '{matched_title}', you might like:\\n\")\n",
        "    for i, (idx, _) in enumerate(sorted_scores[1:6], 1):\n",
        "        print(f\"{i}. {movies.iloc[idx]['title_x']}\")"
      ],
      "metadata": {
        "id": "7-bPwfdy4kLh"
      },
      "execution_count": null,
      "outputs": []
    },
    {
      "cell_type": "code",
      "source": [
        "movie_input = input(\"Enter a movie you like: \")\n",
        "recommend_movie(movie_input)"
      ],
      "metadata": {
        "colab": {
          "base_uri": "https://localhost:8080/"
        },
        "id": "tqw9NPUP458M",
        "outputId": "e58f19b2-3a88-4f9a-d083-5860a8ee307c"
      },
      "execution_count": null,
      "outputs": [
        {
          "output_type": "stream",
          "name": "stdout",
          "text": [
            "Enter a movie you like: 500 days of summer\n",
            "\n",
            "🎬 Because you watched '(500) Days of Summer', you might like:\n",
            "\n",
            "1. Don Jon\n",
            "2. The Good Girl\n",
            "3. Premium Rush\n",
            "4. The Amazing Spider-Man 2\n",
            "5. The Juror\n"
          ]
        }
      ]
    }
  ]
}